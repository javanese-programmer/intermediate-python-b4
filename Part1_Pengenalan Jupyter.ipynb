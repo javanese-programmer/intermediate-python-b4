{
 "cells": [
  {
   "cell_type": "markdown",
   "metadata": {},
   "source": [
    "# List Shortcut:\n",
    "Pertama klik cell, hingga berwarna biru, lalu ketik:\n",
    "a = insert cell above\n",
    "b = insert cell below\n",
    "double d = delete cell\n",
    "m = markdown\n",
    "y = code\n",
    "shift + enter = run"
   ]
  }
 ],
 "metadata": {
  "kernelspec": {
   "display_name": "Python 3",
   "language": "python",
   "name": "python3"
  },
  "language_info": {
   "codemirror_mode": {
    "name": "ipython",
    "version": 3
   },
   "file_extension": ".py",
   "mimetype": "text/x-python",
   "name": "python",
   "nbconvert_exporter": "python",
   "pygments_lexer": "ipython3",
   "version": "3.7.3"
  }
 },
 "nbformat": 4,
 "nbformat_minor": 2
}
